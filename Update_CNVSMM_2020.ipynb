{
  "nbformat": 4,
  "nbformat_minor": 0,
  "metadata": {
    "colab": {
      "provenance": [],
      "collapsed_sections": [
        "Us7rEWncV0Ap"
      ],
      "include_colab_link": true
    },
    "kernelspec": {
      "name": "python3",
      "display_name": "Python 3"
    }
  },
  "cells": [
    {
      "cell_type": "markdown",
      "metadata": {
        "id": "view-in-github",
        "colab_type": "text"
      },
      "source": [
        "<a href=\"https://colab.research.google.com/github/mevangelista-alvarado/CNVSMM/blob/main/Update_CNVSMM_2020.ipynb\" target=\"_parent\"><img src=\"https://colab.research.google.com/assets/colab-badge.svg\" alt=\"Open In Colab\"/></a>"
      ]
    },
    {
      "cell_type": "markdown",
      "metadata": {
        "id": "8EweOTj599_K"
      },
      "source": [
        "# `NUMERICAL POISSON GEOMETRY`"
      ]
    },
    {
      "cell_type": "markdown",
      "metadata": {
        "id": "oQgwZ0ilAN6-"
      },
      "source": [
        "Este *notebook* fue utilizado en la charla **Un breve vistazo a la Geometría de Poisson Computacional** durante la realización del *Congreso Nacional Virtual de la Sociedad Matemática Mexicana en 2020*\n",
        "\n",
        "Videos de la plática:\n",
        "*   [Parte I](https://www.youtube.com/watch?v=27nBbz8BbL0&feature=emb_logo)\n",
        "*   [Parte II](https://www.youtube.com/watch?v=PtTaK_Qef54&feature=emb_logo)\n",
        "\n"
      ]
    },
    {
      "cell_type": "markdown",
      "metadata": {
        "id": "qTHhhSwn-Rn8"
      },
      "source": [
        "# Instalación y sintaxis\n",
        "---"
      ]
    },
    {
      "cell_type": "code",
      "metadata": {
        "id": "D7uGQdE8xLXh",
        "colab": {
          "base_uri": "https://localhost:8080/"
        },
        "outputId": "a86f6f19-bf0f-4876-b2cd-f5e1b226d997"
      },
      "source": [
        "!pip install numericalpoissongeometry"
      ],
      "execution_count": 51,
      "outputs": [
        {
          "output_type": "stream",
          "name": "stdout",
          "text": [
            "Requirement already satisfied: numericalpoissongeometry in /usr/local/lib/python3.10/dist-packages (1.1.1)\n",
            "Requirement already satisfied: sympy in /usr/local/lib/python3.10/dist-packages (from numericalpoissongeometry) (1.11.1)\n",
            "Requirement already satisfied: numpy in /usr/local/lib/python3.10/dist-packages (from numericalpoissongeometry) (1.23.5)\n",
            "Requirement already satisfied: torch in /usr/local/lib/python3.10/dist-packages (from numericalpoissongeometry) (2.0.1+cu118)\n",
            "Requirement already satisfied: tensorflow in /usr/local/lib/python3.10/dist-packages (from numericalpoissongeometry) (2.12.0)\n",
            "Requirement already satisfied: poissongeometry in /usr/local/lib/python3.10/dist-packages (from numericalpoissongeometry) (1.0.2)\n",
            "Requirement already satisfied: permutation in /usr/local/lib/python3.10/dist-packages (from numericalpoissongeometry) (0.4.0)\n",
            "Requirement already satisfied: scipy in /usr/local/lib/python3.10/dist-packages (from numericalpoissongeometry) (1.10.1)\n",
            "Requirement already satisfied: mpmath>=0.19 in /usr/local/lib/python3.10/dist-packages (from sympy->numericalpoissongeometry) (1.3.0)\n",
            "Requirement already satisfied: absl-py>=1.0.0 in /usr/local/lib/python3.10/dist-packages (from tensorflow->numericalpoissongeometry) (1.4.0)\n",
            "Requirement already satisfied: astunparse>=1.6.0 in /usr/local/lib/python3.10/dist-packages (from tensorflow->numericalpoissongeometry) (1.6.3)\n",
            "Requirement already satisfied: flatbuffers>=2.0 in /usr/local/lib/python3.10/dist-packages (from tensorflow->numericalpoissongeometry) (23.5.26)\n",
            "Requirement already satisfied: gast<=0.4.0,>=0.2.1 in /usr/local/lib/python3.10/dist-packages (from tensorflow->numericalpoissongeometry) (0.4.0)\n",
            "Requirement already satisfied: google-pasta>=0.1.1 in /usr/local/lib/python3.10/dist-packages (from tensorflow->numericalpoissongeometry) (0.2.0)\n",
            "Requirement already satisfied: grpcio<2.0,>=1.24.3 in /usr/local/lib/python3.10/dist-packages (from tensorflow->numericalpoissongeometry) (1.56.2)\n",
            "Requirement already satisfied: h5py>=2.9.0 in /usr/local/lib/python3.10/dist-packages (from tensorflow->numericalpoissongeometry) (3.8.0)\n",
            "Requirement already satisfied: jax>=0.3.15 in /usr/local/lib/python3.10/dist-packages (from tensorflow->numericalpoissongeometry) (0.4.14)\n",
            "Requirement already satisfied: keras<2.13,>=2.12.0 in /usr/local/lib/python3.10/dist-packages (from tensorflow->numericalpoissongeometry) (2.12.0)\n",
            "Requirement already satisfied: libclang>=13.0.0 in /usr/local/lib/python3.10/dist-packages (from tensorflow->numericalpoissongeometry) (16.0.6)\n",
            "Requirement already satisfied: opt-einsum>=2.3.2 in /usr/local/lib/python3.10/dist-packages (from tensorflow->numericalpoissongeometry) (3.3.0)\n",
            "Requirement already satisfied: packaging in /usr/local/lib/python3.10/dist-packages (from tensorflow->numericalpoissongeometry) (23.1)\n",
            "Requirement already satisfied: protobuf!=4.21.0,!=4.21.1,!=4.21.2,!=4.21.3,!=4.21.4,!=4.21.5,<5.0.0dev,>=3.20.3 in /usr/local/lib/python3.10/dist-packages (from tensorflow->numericalpoissongeometry) (3.20.3)\n",
            "Requirement already satisfied: setuptools in /usr/local/lib/python3.10/dist-packages (from tensorflow->numericalpoissongeometry) (67.7.2)\n",
            "Requirement already satisfied: six>=1.12.0 in /usr/local/lib/python3.10/dist-packages (from tensorflow->numericalpoissongeometry) (1.16.0)\n",
            "Requirement already satisfied: tensorboard<2.13,>=2.12 in /usr/local/lib/python3.10/dist-packages (from tensorflow->numericalpoissongeometry) (2.12.3)\n",
            "Requirement already satisfied: tensorflow-estimator<2.13,>=2.12.0 in /usr/local/lib/python3.10/dist-packages (from tensorflow->numericalpoissongeometry) (2.12.0)\n",
            "Requirement already satisfied: termcolor>=1.1.0 in /usr/local/lib/python3.10/dist-packages (from tensorflow->numericalpoissongeometry) (2.3.0)\n",
            "Requirement already satisfied: typing-extensions>=3.6.6 in /usr/local/lib/python3.10/dist-packages (from tensorflow->numericalpoissongeometry) (4.7.1)\n",
            "Requirement already satisfied: wrapt<1.15,>=1.11.0 in /usr/local/lib/python3.10/dist-packages (from tensorflow->numericalpoissongeometry) (1.14.1)\n",
            "Requirement already satisfied: tensorflow-io-gcs-filesystem>=0.23.1 in /usr/local/lib/python3.10/dist-packages (from tensorflow->numericalpoissongeometry) (0.33.0)\n",
            "Requirement already satisfied: filelock in /usr/local/lib/python3.10/dist-packages (from torch->numericalpoissongeometry) (3.12.2)\n",
            "Requirement already satisfied: networkx in /usr/local/lib/python3.10/dist-packages (from torch->numericalpoissongeometry) (3.1)\n",
            "Requirement already satisfied: jinja2 in /usr/local/lib/python3.10/dist-packages (from torch->numericalpoissongeometry) (3.1.2)\n",
            "Requirement already satisfied: triton==2.0.0 in /usr/local/lib/python3.10/dist-packages (from torch->numericalpoissongeometry) (2.0.0)\n",
            "Requirement already satisfied: cmake in /usr/local/lib/python3.10/dist-packages (from triton==2.0.0->torch->numericalpoissongeometry) (3.25.2)\n",
            "Requirement already satisfied: lit in /usr/local/lib/python3.10/dist-packages (from triton==2.0.0->torch->numericalpoissongeometry) (16.0.6)\n",
            "Requirement already satisfied: wheel<1.0,>=0.23.0 in /usr/local/lib/python3.10/dist-packages (from astunparse>=1.6.0->tensorflow->numericalpoissongeometry) (0.41.0)\n",
            "Requirement already satisfied: ml-dtypes>=0.2.0 in /usr/local/lib/python3.10/dist-packages (from jax>=0.3.15->tensorflow->numericalpoissongeometry) (0.2.0)\n",
            "Requirement already satisfied: google-auth<3,>=1.6.3 in /usr/local/lib/python3.10/dist-packages (from tensorboard<2.13,>=2.12->tensorflow->numericalpoissongeometry) (2.17.3)\n",
            "Requirement already satisfied: google-auth-oauthlib<1.1,>=0.5 in /usr/local/lib/python3.10/dist-packages (from tensorboard<2.13,>=2.12->tensorflow->numericalpoissongeometry) (1.0.0)\n",
            "Requirement already satisfied: markdown>=2.6.8 in /usr/local/lib/python3.10/dist-packages (from tensorboard<2.13,>=2.12->tensorflow->numericalpoissongeometry) (3.4.4)\n",
            "Requirement already satisfied: requests<3,>=2.21.0 in /usr/local/lib/python3.10/dist-packages (from tensorboard<2.13,>=2.12->tensorflow->numericalpoissongeometry) (2.31.0)\n",
            "Requirement already satisfied: tensorboard-data-server<0.8.0,>=0.7.0 in /usr/local/lib/python3.10/dist-packages (from tensorboard<2.13,>=2.12->tensorflow->numericalpoissongeometry) (0.7.1)\n",
            "Requirement already satisfied: werkzeug>=1.0.1 in /usr/local/lib/python3.10/dist-packages (from tensorboard<2.13,>=2.12->tensorflow->numericalpoissongeometry) (2.3.6)\n",
            "Requirement already satisfied: MarkupSafe>=2.0 in /usr/local/lib/python3.10/dist-packages (from jinja2->torch->numericalpoissongeometry) (2.1.3)\n",
            "Requirement already satisfied: cachetools<6.0,>=2.0.0 in /usr/local/lib/python3.10/dist-packages (from google-auth<3,>=1.6.3->tensorboard<2.13,>=2.12->tensorflow->numericalpoissongeometry) (5.3.1)\n",
            "Requirement already satisfied: pyasn1-modules>=0.2.1 in /usr/local/lib/python3.10/dist-packages (from google-auth<3,>=1.6.3->tensorboard<2.13,>=2.12->tensorflow->numericalpoissongeometry) (0.3.0)\n",
            "Requirement already satisfied: rsa<5,>=3.1.4 in /usr/local/lib/python3.10/dist-packages (from google-auth<3,>=1.6.3->tensorboard<2.13,>=2.12->tensorflow->numericalpoissongeometry) (4.9)\n",
            "Requirement already satisfied: requests-oauthlib>=0.7.0 in /usr/local/lib/python3.10/dist-packages (from google-auth-oauthlib<1.1,>=0.5->tensorboard<2.13,>=2.12->tensorflow->numericalpoissongeometry) (1.3.1)\n",
            "Requirement already satisfied: charset-normalizer<4,>=2 in /usr/local/lib/python3.10/dist-packages (from requests<3,>=2.21.0->tensorboard<2.13,>=2.12->tensorflow->numericalpoissongeometry) (3.2.0)\n",
            "Requirement already satisfied: idna<4,>=2.5 in /usr/local/lib/python3.10/dist-packages (from requests<3,>=2.21.0->tensorboard<2.13,>=2.12->tensorflow->numericalpoissongeometry) (3.4)\n",
            "Requirement already satisfied: urllib3<3,>=1.21.1 in /usr/local/lib/python3.10/dist-packages (from requests<3,>=2.21.0->tensorboard<2.13,>=2.12->tensorflow->numericalpoissongeometry) (1.26.16)\n",
            "Requirement already satisfied: certifi>=2017.4.17 in /usr/local/lib/python3.10/dist-packages (from requests<3,>=2.21.0->tensorboard<2.13,>=2.12->tensorflow->numericalpoissongeometry) (2023.7.22)\n",
            "Requirement already satisfied: pyasn1<0.6.0,>=0.4.6 in /usr/local/lib/python3.10/dist-packages (from pyasn1-modules>=0.2.1->google-auth<3,>=1.6.3->tensorboard<2.13,>=2.12->tensorflow->numericalpoissongeometry) (0.5.0)\n",
            "Requirement already satisfied: oauthlib>=3.0.0 in /usr/local/lib/python3.10/dist-packages (from requests-oauthlib>=0.7.0->google-auth-oauthlib<1.1,>=0.5->tensorboard<2.13,>=2.12->tensorflow->numericalpoissongeometry) (3.2.2)\n"
          ]
        }
      ]
    },
    {
      "cell_type": "markdown",
      "metadata": {
        "id": "ae49aunOwhiV"
      },
      "source": [
        "### Bivector\n",
        "\n"
      ]
    },
    {
      "cell_type": "markdown",
      "metadata": {
        "id": "XFdv1d5HDFOe"
      },
      "source": [
        "El bivector asociado a $\\mathfrak{so}(3)$ es\n",
        "\n",
        "$$\\Pi_{\\mathfrak{so(3)}} = x_{3}\\frac{\\partial}{\\partial x_{1}} \\wedge \\frac{\\partial}{\\partial x_{2}} - x_{2}\\frac{\\partial}{\\partial x_{1}} \\wedge \\frac{\\partial}{\\partial x_{3}} + x_{1}\\frac{\\partial}{\\partial x_{2}} \\wedge \\frac{\\partial}{\\partial x_{3}}$$\n"
      ]
    },
    {
      "cell_type": "code",
      "metadata": {
        "id": "3seI08dUyMg7"
      },
      "source": [
        "P_so3 = {(1, 2): 'x3', (1, 3): '-1*x2', (2, 3): 'x1'}\n",
        "P_so3 = {(1, 2): 'x3', (1, 3): '-x2', (2, 3): 'x1'}"
      ],
      "execution_count": 52,
      "outputs": []
    },
    {
      "cell_type": "markdown",
      "metadata": {
        "id": "FtmxMHi1CO8z"
      },
      "source": [
        "Recuerde lo siguiente para `Python`"
      ]
    },
    {
      "cell_type": "markdown",
      "metadata": {
        "id": "Pt3B3am3_HbW"
      },
      "source": [
        "\n",
        "\n",
        "*   `**` --> exponente\n",
        "*   `*`  --> multiplicación\n",
        "*   `+`  --> suma\n",
        "*   `-`  --> resta\n",
        "*   `/`  --> división\n",
        "\n",
        "Más info https://docs.python.org/3/library/numeric.html\n"
      ]
    },
    {
      "cell_type": "markdown",
      "metadata": {
        "id": "Wyi10Mk2yFg3"
      },
      "source": [
        "### Funciones Escalares\n"
      ]
    },
    {
      "cell_type": "markdown",
      "metadata": {
        "id": "2V2al0reECJE"
      },
      "source": [
        "Sea $K_{\\mathfrak{so}(3)}: \\mathbb{R}^{3} \\to \\mathbb{R}$ definida como $$K_{\\mathfrak{so}(3)}(x_{1}, x_{2}, x_{3}) = \\frac{x^{2}_{1}}{2} + \\frac{x^{2}_{2}}{2} + \\frac{x^{2}_{3}}{2} $$\n"
      ]
    },
    {
      "cell_type": "code",
      "metadata": {
        "id": "XubrcnLeyN06"
      },
      "source": [
        "K_so3 = '(1/2)*(x1**2 + x2**2 + x3**2)'\n",
        "K_so3 = '(x1**2)/2 + (x2**2)/2 + (x3**2)/2'"
      ],
      "execution_count": 53,
      "outputs": []
    },
    {
      "cell_type": "markdown",
      "metadata": {
        "id": "chP508i_yPHu"
      },
      "source": [
        "### Mallas"
      ]
    },
    {
      "cell_type": "markdown",
      "metadata": {
        "id": "zOCWN0u6GT78"
      },
      "source": [
        "Las mallas que utiliza el módulo `NumericalPoissonGeometry` son las siguientes:\n",
        "*   Lista de listas\n",
        "*   Arreglos de `Numpy`\n"
      ]
    },
    {
      "cell_type": "markdown",
      "metadata": {
        "id": "cEKqKgT-G10g"
      },
      "source": [
        "#### Lista de listas (`Python` nativo)"
      ]
    },
    {
      "cell_type": "code",
      "metadata": {
        "id": "7PS4Ubo4yRji",
        "colab": {
          "base_uri": "https://localhost:8080/",
          "height": 37
        },
        "outputId": "4853ba82-b9c3-4822-d329-c30eec1e54ab"
      },
      "source": [
        "# Simple lista de listas en Python\n",
        "R3_list = [[1, 0, 0], [0, 1, 0], [0, 0, 1]]\n",
        "R3_list"
      ],
      "execution_count": 54,
      "outputs": [
        {
          "output_type": "display_data",
          "data": {
            "text/plain": [
              "<IPython.core.display.HTML object>"
            ],
            "text/html": [
              "<script src='https://cdnjs.cloudflare.com/ajax/libs/mathjax/2.7.3/latest.js?config=default'></script>"
            ]
          },
          "metadata": {}
        },
        {
          "output_type": "execute_result",
          "data": {
            "text/plain": [
              "[[1, 0, 0], [0, 1, 0], [0, 0, 1]]"
            ],
            "text/latex": "$\\displaystyle \\left[ \\left[ 1, \\  0, \\  0\\right], \\  \\left[ 0, \\  1, \\  0\\right], \\  \\left[ 0, \\  0, \\  1\\right]\\right]$"
          },
          "metadata": {},
          "execution_count": 54
        }
      ]
    },
    {
      "cell_type": "markdown",
      "metadata": {
        "id": "iG_Of7yLJ5MB"
      },
      "source": [
        "#### Arreglos de `Numpy`\n",
        "\n",
        "Para manipular una gran cantidad de puntos, es recomendable utilizar el módulo de `python` para análisis numérico `numpy`."
      ]
    },
    {
      "cell_type": "code",
      "metadata": {
        "id": "-ZJXKmJaKTJI",
        "colab": {
          "base_uri": "https://localhost:8080/"
        },
        "outputId": "b7e8fa3f-7660-4731-a0b4-188b0550224a"
      },
      "source": [
        "import numpy as np # Importamos el módulo numpy\n",
        "\n",
        " # Generamos un malla de 10**4 puntos con números aleatorios\n",
        "R3_numpy_ramdon = np.random.rand(10**4, 3)\n",
        "R3_numpy_ramdon"
      ],
      "execution_count": 55,
      "outputs": [
        {
          "output_type": "execute_result",
          "data": {
            "text/plain": [
              "array([[0.53533936, 0.60865954, 0.36075538],\n",
              "       [0.32688849, 0.2204368 , 0.36630328],\n",
              "       [0.4661344 , 0.56215657, 0.24956744],\n",
              "       ...,\n",
              "       [0.48572444, 0.22866941, 0.10422987],\n",
              "       [0.10564128, 0.59463767, 0.68986314],\n",
              "       [0.81940783, 0.16667107, 0.65563825]])"
            ]
          },
          "metadata": {},
          "execution_count": 55
        }
      ]
    },
    {
      "cell_type": "code",
      "metadata": {
        "id": "cZqyoJDzK8nZ",
        "colab": {
          "base_uri": "https://localhost:8080/",
          "height": 37
        },
        "outputId": "0c99a8f6-d942-4d90-de71-c147cc274ac1"
      },
      "source": [
        "len(R3_numpy_ramdon)"
      ],
      "execution_count": 56,
      "outputs": [
        {
          "output_type": "display_data",
          "data": {
            "text/plain": [
              "<IPython.core.display.HTML object>"
            ],
            "text/html": [
              "<script src='https://cdnjs.cloudflare.com/ajax/libs/mathjax/2.7.3/latest.js?config=default'></script>"
            ]
          },
          "metadata": {}
        },
        {
          "output_type": "execute_result",
          "data": {
            "text/plain": [
              "10000"
            ],
            "text/latex": "$\\displaystyle 10000$"
          },
          "metadata": {},
          "execution_count": 56
        }
      ]
    },
    {
      "cell_type": "markdown",
      "metadata": {
        "id": "fuLuxxlSLjCF"
      },
      "source": [
        "### Primer uso del módulo"
      ]
    },
    {
      "cell_type": "code",
      "metadata": {
        "id": "Vxf6MJC2LqKs",
        "colab": {
          "base_uri": "https://localhost:8080/"
        },
        "outputId": "878ceaf1-8663-47da-aee8-7ee645f4a145"
      },
      "source": [
        "# Importamos el módulo NumericalPoissonGeometry\n",
        "from numpoisson.numpoisson import NumPoissonGeometry as npg\n",
        "\n",
        "# Instanciar el módulo NumericalPoissonGeometry con la dimensión y la variable a usar\n",
        "npg3 = npg(3, 'x')\n",
        "# Esta función muestra todos los métodos de una clase\n",
        "dir(npg)"
      ],
      "execution_count": 57,
      "outputs": [
        {
          "output_type": "execute_result",
          "data": {
            "text/plain": [
              "['__class__',\n",
              " '__delattr__',\n",
              " '__dict__',\n",
              " '__dir__',\n",
              " '__doc__',\n",
              " '__eq__',\n",
              " '__format__',\n",
              " '__ge__',\n",
              " '__getattribute__',\n",
              " '__gt__',\n",
              " '__hash__',\n",
              " '__init__',\n",
              " '__init_subclass__',\n",
              " '__le__',\n",
              " '__lt__',\n",
              " '__module__',\n",
              " '__ne__',\n",
              " '__new__',\n",
              " '__reduce__',\n",
              " '__reduce_ex__',\n",
              " '__repr__',\n",
              " '__setattr__',\n",
              " '__sizeof__',\n",
              " '__str__',\n",
              " '__subclasshook__',\n",
              " '__weakref__',\n",
              " 'num_bivector',\n",
              " 'num_bivector_to_matrix',\n",
              " 'num_coboundary_operator',\n",
              " 'num_curl_operator',\n",
              " 'num_flaschka_ratiu_bivector',\n",
              " 'num_gauge_transformation',\n",
              " 'num_hamiltonian_vf',\n",
              " 'num_linear_normal_form_R3',\n",
              " 'num_modular_vf',\n",
              " 'num_one_forms_bracket',\n",
              " 'num_poisson_bracket',\n",
              " 'num_sharp_morphism']"
            ]
          },
          "metadata": {},
          "execution_count": 57
        }
      ]
    },
    {
      "cell_type": "markdown",
      "metadata": {
        "id": "Us7rEWncV0Ap"
      },
      "source": [
        "#### $\\LaTeX$ bonito"
      ]
    },
    {
      "cell_type": "code",
      "metadata": {
        "id": "iukQn8rvV5YS"
      },
      "source": [
        "import sympy\n",
        "def custom_latex_printer(exp,**options):\n",
        "    from google.colab.output._publish import javascript\n",
        "    url = \"https://cdnjs.cloudflare.com/ajax/libs/mathjax/2.7.3/latest.js?config=default\"\n",
        "    javascript(url=url)\n",
        "    return sympy.printing.latex(exp,**options)\n",
        "sympy.init_printing(use_latex=\"mathjax\",latex_printer=custom_latex_printer)"
      ],
      "execution_count": 58,
      "outputs": []
    },
    {
      "cell_type": "markdown",
      "metadata": {
        "id": "V4f24L-GwTiT"
      },
      "source": [
        "# Álgebra de Lie $\\mathfrak{so}(3)$\n",
        "\n",
        "---\n",
        "\n"
      ]
    },
    {
      "cell_type": "markdown",
      "metadata": {
        "id": "8NeOdhWMmr9Q"
      },
      "source": [
        "Recordemos\n",
        "\n",
        "$$\\mathfrak{so}(3)\\simeq\\{ M \\in Mat_{3\\times 3}(\\mathbb{R}) | M^{T} = -M \\}$$  \n",
        "  \n",
        "\n",
        "La estructura de álgebra de Lie en $\\{ M \\in Mat_{3\\times 3}(\\mathbb{R}) | M^{T} = -M \\}$ es la inducida por el conmutador $[A, B]:= AB - BA$"
      ]
    },
    {
      "cell_type": "markdown",
      "metadata": {
        "id": "eHhnnWy9PvTy"
      },
      "source": [
        "El bivector asociado a $\\mathfrak{so}(3)$ es\n",
        "\n",
        "$$\\Pi_{\\mathfrak{so(3)}} = x_{3}\\frac{\\partial}{\\partial x_{1}} \\wedge \\frac{\\partial}{\\partial x_{2}} - x_{2}\\frac{\\partial}{\\partial x_{1}} \\wedge \\frac{\\partial}{\\partial x_{3}} + x_{1}\\frac{\\partial}{\\partial x_{2}} \\wedge \\frac{\\partial}{\\partial x_{3}}$$"
      ]
    },
    {
      "cell_type": "markdown",
      "metadata": {
        "id": "xivtxIrdOjVI"
      },
      "source": [
        "### Evaluación de la matriz asociada al bivector $\\Pi_{\\mathfrak{so(3)}}$"
      ]
    },
    {
      "cell_type": "code",
      "metadata": {
        "id": "yOxrMuGiEyYm"
      },
      "source": [
        "# Importamos el módulo NumericalPoissonGeometry\n",
        "from numpoisson.numpoisson import NumPoissonGeometry as npg\n",
        "\n",
        "# Instanciamos el módulo NumericalPoissonGeometry\n",
        "npg3 = npg(3, 'x')\n",
        "# Definimos el bivector asociado a so(3)\n",
        "P_so3 = {(1, 2): 'x3', (1, 3): '-x2', (2, 3): 'x1'}"
      ],
      "execution_count": 59,
      "outputs": []
    },
    {
      "cell_type": "markdown",
      "metadata": {
        "id": "vfQ_1dkAMrdQ"
      },
      "source": [
        "Para el caso de la malla `R3_list`\n",
        "\n"
      ]
    },
    {
      "cell_type": "code",
      "metadata": {
        "id": "6KLMXYsqPJWp",
        "colab": {
          "base_uri": "https://localhost:8080/",
          "height": 37
        },
        "outputId": "a88cb13d-5e9f-4a74-e33c-10d6b789c387"
      },
      "source": [
        "R3_list"
      ],
      "execution_count": 60,
      "outputs": [
        {
          "output_type": "display_data",
          "data": {
            "text/plain": [
              "<IPython.core.display.HTML object>"
            ],
            "text/html": [
              "<script src='https://cdnjs.cloudflare.com/ajax/libs/mathjax/2.7.3/latest.js?config=default'></script>"
            ]
          },
          "metadata": {}
        },
        {
          "output_type": "execute_result",
          "data": {
            "text/plain": [
              "[[1, 0, 0], [0, 1, 0], [0, 0, 1]]"
            ],
            "text/latex": "$\\displaystyle \\left[ \\left[ 1, \\  0, \\  0\\right], \\  \\left[ 0, \\  1, \\  0\\right], \\  \\left[ 0, \\  0, \\  1\\right]\\right]$"
          },
          "metadata": {},
          "execution_count": 60
        }
      ]
    },
    {
      "cell_type": "code",
      "metadata": {
        "id": "N70ICa9NVs5a",
        "colab": {
          "base_uri": "https://localhost:8080/",
          "height": 78
        },
        "outputId": "ca7c419d-0a14-4b7c-b25a-fe4747fb7891"
      },
      "source": [
        "# Importamos el módulo PoissonGeometry\n",
        "from poisson.poisson import PoissonGeometry as pg\n",
        "\n",
        "# Instanciamos el módulo PoissonGeometry\n",
        "pg3 = pg(3, 'x')\n",
        "# Calculamos la matriz asociada al bivector P_so3\n",
        "pg3.bivector_to_matrix(P_so3)"
      ],
      "execution_count": 61,
      "outputs": [
        {
          "output_type": "display_data",
          "data": {
            "text/plain": [
              "<IPython.core.display.HTML object>"
            ],
            "text/html": [
              "<script src='https://cdnjs.cloudflare.com/ajax/libs/mathjax/2.7.3/latest.js?config=default'></script>"
            ]
          },
          "metadata": {}
        },
        {
          "output_type": "execute_result",
          "data": {
            "text/plain": [
              "⎡ 0   x₃   -x₂⎤\n",
              "⎢             ⎥\n",
              "⎢-x₃   0   x₁ ⎥\n",
              "⎢             ⎥\n",
              "⎣x₂   -x₁   0 ⎦"
            ],
            "text/latex": "$\\displaystyle \\left[\\begin{matrix}0 & x_{3} & - x_{2}\\\\- x_{3} & 0 & x_{1}\\\\x_{2} & - x_{1} & 0\\end{matrix}\\right]$"
          },
          "metadata": {},
          "execution_count": 61
        }
      ]
    },
    {
      "cell_type": "markdown",
      "metadata": {
        "id": "eH9lPShMMwvU"
      },
      "source": [
        "Las funciones del método `NumericalPoissonGeometry` retornan 4 tipos de resultados:\n",
        "\n",
        "\n",
        "*   `Numpy`,\n",
        "*   tf_output  --->  `TensorFlow`\n",
        "*   pt_output  --->  `Pytorch`\n",
        "*   dict_output -->  `PoissonGeometry`\n",
        "\n"
      ]
    },
    {
      "cell_type": "code",
      "metadata": {
        "id": "pVR64hhrJxOq",
        "colab": {
          "base_uri": "https://localhost:8080/"
        },
        "outputId": "4345b960-e313-4138-9f7b-98511aa5092e"
      },
      "source": [
        "# Evaluamos la matriz asociada al bivector P_so3 en la malla R3_list\n",
        "result_np = npg3.num_bivector_to_matrix(P_so3, R3_list)\n",
        "result_np"
      ],
      "execution_count": 62,
      "outputs": [
        {
          "output_type": "execute_result",
          "data": {
            "text/plain": [
              "array([[[ 0.,  0.,  0.],\n",
              "        [ 0.,  0.,  1.],\n",
              "        [ 0., -1.,  0.]],\n",
              "\n",
              "       [[ 0.,  0., -1.],\n",
              "        [ 0.,  0.,  0.],\n",
              "        [ 1.,  0.,  0.]],\n",
              "\n",
              "       [[ 0.,  1.,  0.],\n",
              "        [-1.,  0.,  0.],\n",
              "        [ 0.,  0.,  0.]]])"
            ]
          },
          "metadata": {},
          "execution_count": 62
        }
      ]
    },
    {
      "cell_type": "code",
      "metadata": {
        "id": "TuLXsPX6NYEX",
        "colab": {
          "base_uri": "https://localhost:8080/"
        },
        "outputId": "bb91cb3f-82c3-4dae-9e0b-47565d09e09e"
      },
      "source": [
        "type(result_np)"
      ],
      "execution_count": 63,
      "outputs": [
        {
          "output_type": "execute_result",
          "data": {
            "text/plain": [
              "numpy.ndarray"
            ]
          },
          "metadata": {},
          "execution_count": 63
        }
      ]
    },
    {
      "cell_type": "code",
      "metadata": {
        "id": "K-3oul3-I_qj",
        "colab": {
          "base_uri": "https://localhost:8080/"
        },
        "outputId": "6285a284-bdce-4ab8-ddbb-c399f632d57a"
      },
      "source": [
        "# Evaluamos la matriz asociado al bivector P_so3 en la malla R3_list\n",
        "result_pt = npg3.num_bivector_to_matrix(P_so3, R3_list, torch_output=True)\n",
        "result_pt"
      ],
      "execution_count": 64,
      "outputs": [
        {
          "output_type": "execute_result",
          "data": {
            "text/plain": [
              "tensor([[[ 0.,  0.,  0.],\n",
              "         [ 0.,  0.,  1.],\n",
              "         [ 0., -1.,  0.]],\n",
              "\n",
              "        [[ 0.,  0., -1.],\n",
              "         [ 0.,  0.,  0.],\n",
              "         [ 1.,  0.,  0.]],\n",
              "\n",
              "        [[ 0.,  1.,  0.],\n",
              "         [-1.,  0.,  0.],\n",
              "         [ 0.,  0.,  0.]]], dtype=torch.float64)"
            ]
          },
          "metadata": {},
          "execution_count": 64
        }
      ]
    },
    {
      "cell_type": "code",
      "metadata": {
        "id": "YwzQIH1GNbxT",
        "colab": {
          "base_uri": "https://localhost:8080/"
        },
        "outputId": "67f3fd86-d774-4900-ed5a-f24737adf133"
      },
      "source": [
        "type(result_pt)"
      ],
      "execution_count": 65,
      "outputs": [
        {
          "output_type": "execute_result",
          "data": {
            "text/plain": [
              "torch.Tensor"
            ]
          },
          "metadata": {},
          "execution_count": 65
        }
      ]
    },
    {
      "cell_type": "code",
      "metadata": {
        "id": "CL1qxam7IKsb",
        "colab": {
          "base_uri": "https://localhost:8080/"
        },
        "outputId": "a9e2c1f0-5fdc-4a07-85e3-ead5aaf61ec8"
      },
      "source": [
        "# Evaluamos la matriz asociada al bivector P_so3 en la malla R3_list\n",
        "result_tf = npg3.num_bivector_to_matrix(P_so3, R3_list, tf_output=True)\n",
        "result_tf"
      ],
      "execution_count": 66,
      "outputs": [
        {
          "output_type": "execute_result",
          "data": {
            "text/plain": [
              "<tf.Tensor: shape=(3, 3, 3), dtype=float64, numpy=\n",
              "array([[[ 0.,  0.,  0.],\n",
              "        [ 0.,  0.,  1.],\n",
              "        [ 0., -1.,  0.]],\n",
              "\n",
              "       [[ 0.,  0., -1.],\n",
              "        [ 0.,  0.,  0.],\n",
              "        [ 1.,  0.,  0.]],\n",
              "\n",
              "       [[ 0.,  1.,  0.],\n",
              "        [-1.,  0.,  0.],\n",
              "        [ 0.,  0.,  0.]]])>"
            ]
          },
          "metadata": {},
          "execution_count": 66
        }
      ]
    },
    {
      "cell_type": "code",
      "metadata": {
        "id": "koRizM2QNlKe",
        "colab": {
          "base_uri": "https://localhost:8080/"
        },
        "outputId": "6fc8130d-b637-47db-fbd9-d46ca1f26570"
      },
      "source": [
        "type(result_tf)"
      ],
      "execution_count": 67,
      "outputs": [
        {
          "output_type": "execute_result",
          "data": {
            "text/plain": [
              "tensorflow.python.framework.ops.EagerTensor"
            ]
          },
          "metadata": {},
          "execution_count": 67
        }
      ]
    },
    {
      "cell_type": "markdown",
      "metadata": {
        "id": "vGMd1rA5M5OM"
      },
      "source": [
        "Para el caso de la malla `R3_numpy_ramdon`"
      ]
    },
    {
      "cell_type": "code",
      "metadata": {
        "id": "hOvhu_okM7h5",
        "colab": {
          "base_uri": "https://localhost:8080/"
        },
        "outputId": "b7b54b53-22a7-4d61-acfd-78e8d5d2595e"
      },
      "source": [
        "# Evaluamos la matriz asociada al bivector P_so3 en la malla R3_numpy_ramdon\n",
        "result_np = npg3.num_bivector_to_matrix(P_so3, R3_numpy_ramdon)\n",
        "result_np"
      ],
      "execution_count": 68,
      "outputs": [
        {
          "output_type": "execute_result",
          "data": {
            "text/plain": [
              "array([[[ 0.        ,  0.36075538, -0.60865954],\n",
              "        [-0.36075538,  0.        ,  0.53533936],\n",
              "        [ 0.60865954, -0.53533936,  0.        ]],\n",
              "\n",
              "       [[ 0.        ,  0.36630328, -0.2204368 ],\n",
              "        [-0.36630328,  0.        ,  0.32688849],\n",
              "        [ 0.2204368 , -0.32688849,  0.        ]],\n",
              "\n",
              "       [[ 0.        ,  0.24956744, -0.56215657],\n",
              "        [-0.24956744,  0.        ,  0.4661344 ],\n",
              "        [ 0.56215657, -0.4661344 ,  0.        ]],\n",
              "\n",
              "       ...,\n",
              "\n",
              "       [[ 0.        ,  0.10422987, -0.22866941],\n",
              "        [-0.10422987,  0.        ,  0.48572444],\n",
              "        [ 0.22866941, -0.48572444,  0.        ]],\n",
              "\n",
              "       [[ 0.        ,  0.68986314, -0.59463767],\n",
              "        [-0.68986314,  0.        ,  0.10564128],\n",
              "        [ 0.59463767, -0.10564128,  0.        ]],\n",
              "\n",
              "       [[ 0.        ,  0.65563825, -0.16667107],\n",
              "        [-0.65563825,  0.        ,  0.81940783],\n",
              "        [ 0.16667107, -0.81940783,  0.        ]]])"
            ]
          },
          "metadata": {},
          "execution_count": 68
        }
      ]
    },
    {
      "cell_type": "markdown",
      "metadata": {
        "id": "_r-es8-xOqzj"
      },
      "source": [
        "### Evaluación del bivector $\\Pi_{\\mathfrak{so(3)}}$"
      ]
    },
    {
      "cell_type": "code",
      "metadata": {
        "id": "KF0LcxasPBDa",
        "colab": {
          "base_uri": "https://localhost:8080/"
        },
        "outputId": "dd8b0f69-3eb8-4587-8cee-9f9a92dd467e"
      },
      "source": [
        "# Evaluamos el bivector P_so3 en la malla\n",
        "npg3.num_bivector(P_so3, R3_list)"
      ],
      "execution_count": 69,
      "outputs": [
        {
          "output_type": "execute_result",
          "data": {
            "text/plain": [
              "array([[[ 0.,  0.,  0.],\n",
              "        [ 0.,  0.,  1.],\n",
              "        [ 0., -1.,  0.]],\n",
              "\n",
              "       [[ 0.,  0., -1.],\n",
              "        [ 0.,  0.,  0.],\n",
              "        [ 1.,  0.,  0.]],\n",
              "\n",
              "       [[ 0.,  1.,  0.],\n",
              "        [-1.,  0.,  0.],\n",
              "        [ 0.,  0.,  0.]]])"
            ]
          },
          "metadata": {},
          "execution_count": 69
        }
      ]
    },
    {
      "cell_type": "code",
      "metadata": {
        "id": "xblbxQZ5QUJj",
        "colab": {
          "base_uri": "https://localhost:8080/"
        },
        "outputId": "b7620d9e-1b2f-40e4-8bfc-8219f70f9ab7"
      },
      "source": [
        "# Evaluamos el bivector asociado a P_so3 en la malla R3_list\n",
        "result_dict = npg3.num_bivector(P_so3, R3_list, dict_output=True)\n",
        "result_dict"
      ],
      "execution_count": 70,
      "outputs": [
        {
          "output_type": "execute_result",
          "data": {
            "text/plain": [
              "array([{(2, 3): 1}, {(1, 3): -1}, {(1, 2): 1}], dtype=object)"
            ]
          },
          "metadata": {},
          "execution_count": 70
        }
      ]
    },
    {
      "cell_type": "code",
      "metadata": {
        "id": "cjaqKhR6OA-a",
        "colab": {
          "base_uri": "https://localhost:8080/"
        },
        "outputId": "11887693-7f1d-4215-deba-f7c7782bc630"
      },
      "source": [
        "type(result_dict)"
      ],
      "execution_count": 71,
      "outputs": [
        {
          "output_type": "execute_result",
          "data": {
            "text/plain": [
              "numpy.ndarray"
            ]
          },
          "metadata": {},
          "execution_count": 71
        }
      ]
    },
    {
      "cell_type": "markdown",
      "metadata": {
        "id": "eA9PTsGHlWgC"
      },
      "source": [
        "#### Evaluación de $X_{h}$ relativo a $\\Pi_{\\mathfrak{so(3)}}$\n"
      ]
    },
    {
      "cell_type": "markdown",
      "metadata": {
        "id": "H75l5rs2l8M4"
      },
      "source": [
        "Caso 1:\n",
        "\n",
        "Sea $h = K_{\\mathfrak{so}(3)}: \\mathbb{R}^{3} \\to \\mathbb{R}$ definida como $$K_{\\mathfrak{so}(3)}(x_{1}, x_{2}, x_{3}) = \\frac{x^{2}_{1}}{2} + \\frac{x^{2}_{2}}{2} + \\frac{x^{2}_{3}}{2} $$\n"
      ]
    },
    {
      "cell_type": "code",
      "metadata": {
        "id": "MsxFHNJQnm_6",
        "colab": {
          "base_uri": "https://localhost:8080/",
          "height": 37
        },
        "outputId": "8e802969-bfea-420c-8e91-0715ac844aed"
      },
      "source": [
        "# Encontramos el campo vectorial asociado a K_so3 inducido por P_so3 con el módulo simbólico\n",
        "pg3.hamiltonian_vf(P_so3, K_so3)"
      ],
      "execution_count": 72,
      "outputs": [
        {
          "output_type": "display_data",
          "data": {
            "text/plain": [
              "<IPython.core.display.HTML object>"
            ],
            "text/html": [
              "<script src='https://cdnjs.cloudflare.com/ajax/libs/mathjax/2.7.3/latest.js?config=default'></script>"
            ]
          },
          "metadata": {}
        },
        {
          "output_type": "execute_result",
          "data": {
            "text/plain": [
              "{}"
            ],
            "text/latex": "$\\displaystyle \\left\\{ \\right\\}$"
          },
          "metadata": {},
          "execution_count": 72
        }
      ]
    },
    {
      "cell_type": "code",
      "metadata": {
        "id": "2oE18YPOUzDU",
        "colab": {
          "base_uri": "https://localhost:8080/"
        },
        "outputId": "b93f1207-b8f1-4b2e-e2c3-8157c26034ca"
      },
      "source": [
        "# Evaluamos el campo vectorial en la malla R3_numpy_ramdon\n",
        "npg3.num_hamiltonian_vf(P_so3, K_so3, R3_numpy_ramdon, torch_output=True)"
      ],
      "execution_count": 73,
      "outputs": [
        {
          "output_type": "execute_result",
          "data": {
            "text/plain": [
              "tensor([[[ 3.5860e-18],\n",
              "         [ 9.5342e-18],\n",
              "         [-1.4867e-17]],\n",
              "\n",
              "        [[-5.7782e-18],\n",
              "         [ 4.3185e-18],\n",
              "         [ 3.5779e-18]],\n",
              "\n",
              "        [[ 5.7365e-18],\n",
              "         [-1.7865e-19],\n",
              "         [ 2.3907e-17]],\n",
              "\n",
              "        ...,\n",
              "\n",
              "        [[-9.9731e-19],\n",
              "         [ 2.7288e-18],\n",
              "         [ 5.5009e-18]],\n",
              "\n",
              "        [[-2.6462e-17],\n",
              "         [-1.0438e-18],\n",
              "         [-2.8863e-18]],\n",
              "\n",
              "        [[ 2.8433e-18],\n",
              "         [ 4.9159e-17],\n",
              "         [ 7.3054e-19]]], dtype=torch.float64)"
            ]
          },
          "metadata": {},
          "execution_count": 73
        }
      ]
    },
    {
      "cell_type": "markdown",
      "metadata": {
        "id": "f9AOqFjbmWd5"
      },
      "source": [
        "Caso 2:  \n",
        "\n",
        "Sea $h: \\mathbb{R}^{3} \\to \\mathbb{R}$ definida como $$h(x_{1}, x_{2}, x_{3}) = \\frac{x^{2}_{1}}{2} - \\frac{x^{2}_{2}}{2} - \\frac{x^{2}_{3}}{2} $$\n"
      ]
    },
    {
      "cell_type": "code",
      "metadata": {
        "id": "HYapla4QoI1_",
        "colab": {
          "base_uri": "https://localhost:8080/"
        },
        "outputId": "7eb3e25c-07d6-482c-8ae7-bd48dfc29a9a"
      },
      "source": [
        "# Definimos una función escalar h\n",
        "h = '(x1**2)/2 - (x2**2)/2 - (x3**2)/2'\n",
        "# Encontramos el campo vectorial asociado a K_so3 inducido por P_so3 con el módulo simbólico\n",
        "pg3.hamiltonian_vf(P_so3, h)"
      ],
      "execution_count": 74,
      "outputs": [
        {
          "output_type": "execute_result",
          "data": {
            "text/plain": [
              "{(2,): '2*x1*x3', (3,): '-2*x1*x2'}"
            ]
          },
          "metadata": {},
          "execution_count": 74
        }
      ]
    },
    {
      "cell_type": "code",
      "metadata": {
        "id": "shqu2JZtkiG2",
        "colab": {
          "base_uri": "https://localhost:8080/"
        },
        "outputId": "41c98876-76e1-4618-fda7-1904fda018d8"
      },
      "source": [
        "# Evaluamos el campo vectorial en la malla R3_list\n",
        "npg3.num_hamiltonian_vf(P_so3, h, R3_list)"
      ],
      "execution_count": 75,
      "outputs": [
        {
          "output_type": "execute_result",
          "data": {
            "text/plain": [
              "array([[[-0.],\n",
              "        [-0.],\n",
              "        [-0.]],\n",
              "\n",
              "       [[-0.],\n",
              "        [-0.],\n",
              "        [-0.]],\n",
              "\n",
              "       [[-0.],\n",
              "        [-0.],\n",
              "        [-0.]]])"
            ]
          },
          "metadata": {},
          "execution_count": 75
        }
      ]
    },
    {
      "cell_type": "code",
      "metadata": {
        "id": "JRZmlkGYoVR4",
        "colab": {
          "base_uri": "https://localhost:8080/"
        },
        "outputId": "7e57a9c1-ec8c-47e8-89e0-b3734f9576a9"
      },
      "source": [
        "# Evaluamos el campo vectorial en la malla R3_numpy_ramdon\n",
        "npg3.num_hamiltonian_vf(P_so3, h, R3_numpy_ramdon)"
      ],
      "execution_count": 76,
      "outputs": [
        {
          "output_type": "execute_result",
          "data": {
            "text/plain": [
              "array([[[-3.58596071e-18],\n",
              "        [ 3.86253109e-01],\n",
              "        [-6.51678816e-01]],\n",
              "\n",
              "       [[ 5.77817354e-18],\n",
              "        [ 2.39480654e-01],\n",
              "        [-1.44116505e-01]],\n",
              "\n",
              "       [[-5.73649145e-18],\n",
              "        [ 2.32663934e-01],\n",
              "        [-5.24081028e-01]],\n",
              "\n",
              "       ...,\n",
              "\n",
              "       [[ 9.97306122e-19],\n",
              "        [ 1.01253991e-01],\n",
              "        [-2.22140647e-01]],\n",
              "\n",
              "       [[ 2.64617839e-17],\n",
              "        [ 1.45756050e-01],\n",
              "        [-1.25636569e-01]],\n",
              "\n",
              "       [[-2.84326348e-18],\n",
              "        [ 1.07447023e+00],\n",
              "        [-2.73143159e-01]]])"
            ]
          },
          "metadata": {},
          "execution_count": 76
        }
      ]
    },
    {
      "cell_type": "markdown",
      "metadata": {
        "id": "YpmZZIW1vzpP"
      },
      "source": [
        "# Álgebra de Lie $\\mathfrak{sl}(2)$\n",
        "\n",
        "---"
      ]
    },
    {
      "cell_type": "markdown",
      "metadata": {
        "id": "DWgUgjQRotHe"
      },
      "source": [
        "Recordemos\n",
        "\n",
        "$$\\mathfrak{sl}(2)\\simeq\\{ M \\in Mat_{3\\times 3}(\\mathbb{R}) | tr(M) = 0 \\}$$  \n",
        "  \n",
        "\n",
        "La estructura de álgebra de Lie en $\\{ M \\in Mat_{3\\times 3}(\\mathbb{R}) | tr(M) = 0 \\}$ es la inducida por el conmutador $[A, B]:= AB - BA$"
      ]
    },
    {
      "cell_type": "markdown",
      "metadata": {
        "id": "yYLNDvMVOiEE"
      },
      "source": [
        "El bivector asociado a $\\mathfrak{sl}(2)$ es\n",
        "\n",
        "$$\\Pi_{\\mathfrak{sl(2)}} = - x_{3}\\frac{\\partial}{\\partial x_{1}} \\wedge \\frac{\\partial}{\\partial x_{2}} - x_{2}\\frac{\\partial}{\\partial x_{1}} \\wedge \\frac{\\partial}{\\partial x_{3}} + x_{1}\\frac{\\partial}{\\partial x_{2}} \\wedge \\frac{\\partial}{\\partial x_{3}}$$"
      ]
    },
    {
      "cell_type": "markdown",
      "metadata": {
        "id": "6DruvRduzY4H"
      },
      "source": [
        "Evaluación del operador de cofrontera inducido por $\\Pi_{\\mathfrak{sl(2)}}$ en el campo vectorial  \n",
        "\n",
        "$$W = \\frac{x_{1} x_{3} exp^{\\frac{-1}{(x_1^2 + x_2^2 - x_3^2)^{2}}}}{x_1^2 + x_2^2}\\frac{\\partial}{\\partial x_1} + \\frac{x_{2} x_{3} exp^{\\frac{-1}{(x_1^2 + x_2^2 - x_3^2)^{2}}}}{x_1^2 + x_2^2}\\frac{\\partial}{\\partial x_2} + exp^{\\frac{-1}{(x_1^2 + x_2^2 - x_3^2)^{2}}} \\frac{\\partial}{\\partial x_3} $$"
      ]
    },
    {
      "cell_type": "code",
      "metadata": {
        "id": "0BSlNw1yMHjq"
      },
      "source": [
        "# Importamos el módulo NumericalPoissonGeometry\n",
        "from numpoisson.numpoisson import NumPoissonGeometry as npg\n",
        "# Importamos el módulo PoissonGeometry\n",
        "from poisson.poisson import PoissonGeometry as pg\n",
        "\n",
        "# Instanciar el módulo NumericalPoissonGeometry con la dimensión y la variable a usar\n",
        "npg3 = npg(3, 'x')\n",
        "# Instanciar el módulo PoissonGeometry con la dimensión y la variable a usar\n",
        "pg3 = pg(3, 'x')\n"
      ],
      "execution_count": 77,
      "outputs": []
    },
    {
      "cell_type": "code",
      "metadata": {
        "id": "UjhccSxIzlxl",
        "colab": {
          "base_uri": "https://localhost:8080/",
          "height": 37
        },
        "outputId": "f14123d8-573e-484c-c591-5ca85b74d3e2"
      },
      "source": [
        "# Definimos el bivector asociado a so(3)\n",
        "P_sl2 = {(1, 2): '-x3', (1, 3): '-x2', (2,3): 'x1'}\n",
        "# Definimos el campo vectorial W\n",
        "W = {(1,): 'x1 * x3* exp(-1/(x1**2 + x2**2 - x3**2)**2) / (x1**2 + x2**2)',\n",
        "     (2,): 'x2 * x3* exp(-1/(x1**2 + x2**2 - x3**2)**2) / (x1**2 + x2**2)',\n",
        "     (3,): 'exp(-1 / (x1**2 + x2**2 - x3**2)**2)'}\n",
        "# Calculamos la imagen del operador de cofrontera inducido por P_sl2 en el campo vectorial W\n",
        "pg3.coboundary_operator(P_sl2, W)"
      ],
      "execution_count": 78,
      "outputs": [
        {
          "output_type": "display_data",
          "data": {
            "text/plain": [
              "<IPython.core.display.HTML object>"
            ],
            "text/html": [
              "<script src='https://cdnjs.cloudflare.com/ajax/libs/mathjax/2.7.3/latest.js?config=default'></script>"
            ]
          },
          "metadata": {}
        },
        {
          "output_type": "execute_result",
          "data": {
            "text/plain": [
              "{}"
            ],
            "text/latex": "$\\displaystyle \\left\\{ \\right\\}$"
          },
          "metadata": {},
          "execution_count": 78
        }
      ]
    },
    {
      "cell_type": "markdown",
      "metadata": {
        "id": "NpmBH6f9evPt"
      },
      "source": [
        "Para tener un ejemplo distinto a cero redefinimos el campo vectorial  \n",
        "\n",
        "$$W = \\frac{x_{1}exp^{\\frac{-1}{(x_1^2 + x_2^2 - x_3^2)^{2}}}}{x_1^2 + x_2^2}\\frac{\\partial}{\\partial x_1} + \\frac{x_{2}exp^{\\frac{-1}{(x_1^2 + x_2^2 - x_3^2)^{2}}}}{x_1^2 + x_2^2}\\frac{\\partial}{\\partial x_2} + x_3 \\frac{\\partial}{\\partial x_3} $$\n",
        "\n"
      ]
    },
    {
      "cell_type": "code",
      "metadata": {
        "id": "A7OjnYzVLVVs",
        "colab": {
          "base_uri": "https://localhost:8080/"
        },
        "outputId": "a4ccc740-3aa4-4df0-d7a9-0b2322105c9e"
      },
      "source": [
        "# Redefinimos el campo vectorial W\n",
        "W = {(1,): 'x1 * exp(-1/(x1**2 + x2**2 - x3**2)**2) / (x1**2 + x2**2)',\n",
        "     (2,): 'x2 * exp(-1/(x1**2 + x2**2 - x3**2)**2) / (x1**2 + x2**2)',\n",
        "     (3,): 'x3'}\n",
        "# Calculamos la imagen del operador de cofrontera inducido por P_sl2 en el campo vectorial W\n",
        "pg3.coboundary_operator(P_sl2, W)"
      ],
      "execution_count": 79,
      "outputs": [
        {
          "output_type": "execute_result",
          "data": {
            "text/plain": [
              "{(1,\n",
              "  2): '4*x1**2*x3*exp(-1/(x1**2 + x2**2 - x3**2)**2)/((x1**2 + x2**2)*(x1**2 + x2**2 - x3**2)**3) + 4*x2**2*x3*exp(-1/(x1**2 + x2**2 - x3**2)**2)/((x1**2 + x2**2)*(x1**2 + x2**2 - x3**2)**3) - x3*(4*x1**2*exp(-1/(x1**2 + x2**2 - x3**2)**2)/((x1**2 + x2**2)*(x1**2 + x2**2 - x3**2)**3) - 2*x1**2*exp(-1/(x1**2 + x2**2 - x3**2)**2)/(x1**2 + x2**2)**2 + exp(-1/(x1**2 + x2**2 - x3**2)**2)/(x1**2 + x2**2)) - x3*(4*x2**2*exp(-1/(x1**2 + x2**2 - x3**2)**2)/((x1**2 + x2**2)*(x1**2 + x2**2 - x3**2)**3) - 2*x2**2*exp(-1/(x1**2 + x2**2 - x3**2)**2)/(x1**2 + x2**2)**2 + exp(-1/(x1**2 + x2**2 - x3**2)**2)/(x1**2 + x2**2)) + x3',\n",
              " (1,\n",
              "  3): 'x1*(4*x1*x2*exp(-1/(x1**2 + x2**2 - x3**2)**2)/((x1**2 + x2**2)*(x1**2 + x2**2 - x3**2)**3) - 2*x1*x2*exp(-1/(x1**2 + x2**2 - x3**2)**2)/(x1**2 + x2**2)**2) - x2*(4*x1**2*exp(-1/(x1**2 + x2**2 - x3**2)**2)/((x1**2 + x2**2)*(x1**2 + x2**2 - x3**2)**3) - 2*x1**2*exp(-1/(x1**2 + x2**2 - x3**2)**2)/(x1**2 + x2**2)**2 + exp(-1/(x1**2 + x2**2 - x3**2)**2)/(x1**2 + x2**2)) - x2 + x2*exp(-1/(x1**2 + x2**2 - x3**2)**2)/(x1**2 + x2**2)',\n",
              " (2,\n",
              "  3): 'x1*(4*x2**2*exp(-1/(x1**2 + x2**2 - x3**2)**2)/((x1**2 + x2**2)*(x1**2 + x2**2 - x3**2)**3) - 2*x2**2*exp(-1/(x1**2 + x2**2 - x3**2)**2)/(x1**2 + x2**2)**2 + exp(-1/(x1**2 + x2**2 - x3**2)**2)/(x1**2 + x2**2)) + x1 - x1*exp(-1/(x1**2 + x2**2 - x3**2)**2)/(x1**2 + x2**2) - x2*(4*x1*x2*exp(-1/(x1**2 + x2**2 - x3**2)**2)/((x1**2 + x2**2)*(x1**2 + x2**2 - x3**2)**3) - 2*x1*x2*exp(-1/(x1**2 + x2**2 - x3**2)**2)/(x1**2 + x2**2)**2)'}"
            ]
          },
          "metadata": {},
          "execution_count": 79
        }
      ]
    },
    {
      "cell_type": "markdown",
      "metadata": {
        "id": "rDOYmu8lRIUB"
      },
      "source": [
        "#### Evaluación de mapeo $\\Pi_{\\mathfrak{sl(2)}}^{\\#}$"
      ]
    },
    {
      "cell_type": "markdown",
      "metadata": {
        "id": "u0RWxB2BSemP"
      },
      "source": [
        "Sea $$\\alpha = x_1 dx_1 + x_2 dx_2 + x_3 dx_3$$\n",
        "\n",
        "Calculemos $\\Pi_{\\mathfrak{sl(2)}}^{\\#}(\\alpha)$ con ayuda del módulo simbólico.\n"
      ]
    },
    {
      "cell_type": "code",
      "metadata": {
        "id": "lyw2-y4lI119",
        "colab": {
          "base_uri": "https://localhost:8080/",
          "height": 37
        },
        "outputId": "fa0b0175-c648-4279-feb1-51a93b83a65c"
      },
      "source": [
        "# Definimos la 1-forma alpha\n",
        "alpha = {(1,): 'x1', (2,): 'x2', (3,): '-x3'}\n",
        "# Calculamos el morfismo sharp en alpha de manera simbólica\n",
        "pg3.sharp_morphism(P_sl2, alpha)"
      ],
      "execution_count": 80,
      "outputs": [
        {
          "output_type": "display_data",
          "data": {
            "text/plain": [
              "<IPython.core.display.HTML object>"
            ],
            "text/html": [
              "<script src='https://cdnjs.cloudflare.com/ajax/libs/mathjax/2.7.3/latest.js?config=default'></script>"
            ]
          },
          "metadata": {}
        },
        {
          "output_type": "execute_result",
          "data": {
            "text/plain": [
              "{}"
            ],
            "text/latex": "$\\displaystyle \\left\\{ \\right\\}$"
          },
          "metadata": {},
          "execution_count": 80
        }
      ]
    },
    {
      "cell_type": "code",
      "metadata": {
        "id": "PmTtl2vtTjPn",
        "colab": {
          "base_uri": "https://localhost:8080/"
        },
        "outputId": "2e1c2491-46f7-4e1e-d3ed-9c716241803e"
      },
      "source": [
        "# Evaluamos el morfismo sharp en alpha en la malla R3_numpy_ramdon\n",
        "npg3.num_sharp_morphism(P_sl2, alpha, R3_numpy_ramdon)"
      ],
      "execution_count": 81,
      "outputs": [
        {
          "output_type": "execute_result",
          "data": {
            "text/plain": [
              "array([[[-3.58596071e-18],\n",
              "        [-9.53418230e-18],\n",
              "        [-1.48672163e-17]],\n",
              "\n",
              "       [[ 5.77817354e-18],\n",
              "        [-4.31852425e-18],\n",
              "        [ 3.57786872e-18]],\n",
              "\n",
              "       [[-5.73649145e-18],\n",
              "        [ 1.78647634e-19],\n",
              "        [ 2.39070826e-17]],\n",
              "\n",
              "       ...,\n",
              "\n",
              "       [[ 9.97306122e-19],\n",
              "        [-2.72878829e-18],\n",
              "        [ 5.50093040e-18]],\n",
              "\n",
              "       [[ 2.64617839e-17],\n",
              "        [ 1.04378106e-18],\n",
              "        [-2.88628045e-18]],\n",
              "\n",
              "       [[-2.84326348e-18],\n",
              "        [-4.91594060e-17],\n",
              "        [ 7.30539863e-19]]])"
            ]
          },
          "metadata": {},
          "execution_count": 81
        }
      ]
    },
    {
      "cell_type": "markdown",
      "metadata": {
        "id": "UoXru2oJTz93"
      },
      "source": [
        "Ahora consideremos $\\alpha= (x_2-x_3)dx_1 + (x_3-x_1)dx_2 + (x_1-x_2)dx_3$\n"
      ]
    },
    {
      "cell_type": "code",
      "metadata": {
        "id": "MZfI6PslUTOr",
        "colab": {
          "base_uri": "https://localhost:8080/"
        },
        "outputId": "7c4b7998-8974-41a6-bb5c-43da081514ca"
      },
      "source": [
        "# Redefinimos la 1-forma alpha\n",
        "alpha = {(1,): 'x2-x3', (2,): 'x3-x1', (3,): 'x1-x2'}\n",
        "# Calculamos el morfismo sharp en alpha de manera simbólica\n",
        "pg3.sharp_morphism(P_sl2, alpha)"
      ],
      "execution_count": 82,
      "outputs": [
        {
          "output_type": "execute_result",
          "data": {
            "text/plain": [
              "{(1,): 'x2*(x1 - x2) + x3*(-x1 + x3)',\n",
              " (2,): '-x1*(x1 - x2) - x3*(x2 - x3)',\n",
              " (3,): 'x1*(-x1 + x3) - x2*(x2 - x3)'}"
            ]
          },
          "metadata": {},
          "execution_count": 82
        }
      ]
    },
    {
      "cell_type": "code",
      "metadata": {
        "id": "5B-cN8MAH6EG",
        "colab": {
          "base_uri": "https://localhost:8080/"
        },
        "outputId": "615daba2-ab47-46d5-c16f-44b3f46a7567"
      },
      "source": [
        "# Evaluamos el morfismo sharp en alpha en la malla R3_list\n",
        "npg3.num_sharp_morphism(P_sl2, alpha, R3_list)"
      ],
      "execution_count": 83,
      "outputs": [
        {
          "output_type": "execute_result",
          "data": {
            "text/plain": [
              "array([[[-0.],\n",
              "        [-1.],\n",
              "        [-1.]],\n",
              "\n",
              "       [[-1.],\n",
              "        [-0.],\n",
              "        [-1.]],\n",
              "\n",
              "       [[ 1.],\n",
              "        [ 1.],\n",
              "        [-0.]]])"
            ]
          },
          "metadata": {},
          "execution_count": 83
        }
      ]
    },
    {
      "cell_type": "markdown",
      "metadata": {
        "id": "gVKACEdiUiSC"
      },
      "source": [
        "#### Evaluación del corchete de Poisson asociado a $\\Pi_{\\mathfrak{sl(2)}}$"
      ]
    },
    {
      "cell_type": "markdown",
      "metadata": {
        "id": "hXT3pJryU0aR"
      },
      "source": [
        "Calculamos $$\\{x_1, x_3\\}_{\\Pi_{\\mathfrak{sl(2)}}} = -x_2$$"
      ]
    },
    {
      "cell_type": "code",
      "metadata": {
        "id": "K_f7Iq28IY2G",
        "colab": {
          "base_uri": "https://localhost:8080/",
          "height": 35
        },
        "outputId": "821556f9-f7ab-4661-fb65-afe7af6087f4"
      },
      "source": [
        "# Definimmos las funciones f y g\n",
        "f = 'x1'\n",
        "g = 'x3'\n",
        "# Calculamos el corchete de Poisson de forma simbólica\n",
        "pg3.poisson_bracket(P_sl2, f, g)"
      ],
      "execution_count": 84,
      "outputs": [
        {
          "output_type": "execute_result",
          "data": {
            "text/plain": [
              "'-x2'"
            ],
            "application/vnd.google.colaboratory.intrinsic+json": {
              "type": "string"
            }
          },
          "metadata": {},
          "execution_count": 84
        }
      ]
    },
    {
      "cell_type": "code",
      "metadata": {
        "id": "cgT-B4xUIJZc",
        "colab": {
          "base_uri": "https://localhost:8080/"
        },
        "outputId": "58c6cda7-f079-4619-f382-432c4a657558"
      },
      "source": [
        "# Evaluamos el corchete de Poisson en la malla R3_list\n",
        "npg3.num_poisson_bracket(P_sl2, f, g, R3_list)"
      ],
      "execution_count": 85,
      "outputs": [
        {
          "output_type": "execute_result",
          "data": {
            "text/plain": [
              "array([ 0., -1.,  0.])"
            ]
          },
          "metadata": {},
          "execution_count": 85
        }
      ]
    },
    {
      "cell_type": "markdown",
      "metadata": {
        "id": "i1lpqBb40up8"
      },
      "source": [
        "De igual manera para  \n",
        "\n",
        "*   $\\{x_1, x_2\\}_{\\Pi_{\\mathfrak{sl(2)}}} = -x_3$\n",
        "*   $\\{x_2, x_3\\}_{\\Pi_{\\mathfrak{sl(2)}}} = x_1$"
      ]
    },
    {
      "cell_type": "code",
      "metadata": {
        "id": "kO1Ps1Lu1FHz",
        "colab": {
          "base_uri": "https://localhost:8080/",
          "height": 35
        },
        "outputId": "6c0e21eb-1214-4722-e578-522abe3942a4"
      },
      "source": [
        "# Definimmos las funciones f y g\n",
        "f = 'x1'\n",
        "g = 'x2'\n",
        "# Calculamos el corchete de Poisson de forma simbólica\n",
        "pg3.poisson_bracket(P_sl2, f, g)"
      ],
      "execution_count": 86,
      "outputs": [
        {
          "output_type": "execute_result",
          "data": {
            "text/plain": [
              "'-x3'"
            ],
            "application/vnd.google.colaboratory.intrinsic+json": {
              "type": "string"
            }
          },
          "metadata": {},
          "execution_count": 86
        }
      ]
    },
    {
      "cell_type": "code",
      "metadata": {
        "id": "LiKO-CLX1MPJ",
        "colab": {
          "base_uri": "https://localhost:8080/"
        },
        "outputId": "ceffb120-8759-4e8a-cb3c-4ae5f1ce2428"
      },
      "source": [
        "# Evaluamos el corchete de Poisson en la malla R3_list\n",
        "npg3.num_poisson_bracket(P_sl2, f, g, R3_list)"
      ],
      "execution_count": 87,
      "outputs": [
        {
          "output_type": "execute_result",
          "data": {
            "text/plain": [
              "array([ 0.,  0., -1.])"
            ]
          },
          "metadata": {},
          "execution_count": 87
        }
      ]
    },
    {
      "cell_type": "code",
      "metadata": {
        "id": "HO8vWLhX1I1g",
        "colab": {
          "base_uri": "https://localhost:8080/",
          "height": 35
        },
        "outputId": "89b86a85-18b8-4623-c7a1-59416eb7bac1"
      },
      "source": [
        "# Definimmos las funciones f y g\n",
        "f = 'x2'\n",
        "g = 'x3'\n",
        "# Calculamos el corchete de Poisson de forma simbólica\n",
        "pg3.poisson_bracket(P_sl2, f, g)"
      ],
      "execution_count": 88,
      "outputs": [
        {
          "output_type": "execute_result",
          "data": {
            "text/plain": [
              "'x1'"
            ],
            "application/vnd.google.colaboratory.intrinsic+json": {
              "type": "string"
            }
          },
          "metadata": {},
          "execution_count": 88
        }
      ]
    },
    {
      "cell_type": "code",
      "metadata": {
        "id": "Y8f3ksuY1VVt",
        "colab": {
          "base_uri": "https://localhost:8080/"
        },
        "outputId": "b3d89266-24dd-49b0-9d7b-359d48b5c2da"
      },
      "source": [
        "# Evaluamos el corchete de Poisson en la malla R3_list\n",
        "npg3.num_poisson_bracket(P_sl2, f, g, R3_list)"
      ],
      "execution_count": 89,
      "outputs": [
        {
          "output_type": "execute_result",
          "data": {
            "text/plain": [
              "array([1., 0., 0.])"
            ]
          },
          "metadata": {},
          "execution_count": 89
        }
      ]
    },
    {
      "cell_type": "markdown",
      "metadata": {
        "id": "M4dVarsZIEbr"
      },
      "source": [
        "#### Los métodos"
      ]
    },
    {
      "cell_type": "markdown",
      "metadata": {
        "id": "-Ln7vEDsIPx_"
      },
      "source": [
        "\n",
        "| **num_bivector_field**        | **num_bivector_to_matrix**    | **num_poisson_bracket**           |\n",
        "| :---------------------------: | :---------------------------: | :------------------------------:  |\n",
        "| **num_hamiltonian_vf**        | **num_sharp_morphism**        | **num_coboundary_operator**       |\n",
        "| **num_modular_vf**            | **num_curl_operator**         | **num_one_forms_bracket**         |\n",
        "| **num_gauge_transformation**  | **num_linear_normal_form_R3** | **num_flaschka_ratiu_bivector**   |\n",
        "\n",
        "\n",
        "### Referencias\n",
        "\n",
        "\n",
        "* Miguel Evangelista-Alvarado, José C. Ruíz Pantaleón & P. Suárez-Serrato, <br/>\n",
        " [On Computational Poisson Geometry I: Symbolic Foundations](https://arxiv.org/pdf/1912.01746.pdf), <br/>\n",
        "   arXiv:1912.01746 [math.DG] (2019)\n",
        "\n",
        "* https://github.com/mevangelista-alvarado/NumericalPoissonGeometry/blob/master/README.md\n"
      ]
    }
  ]
}